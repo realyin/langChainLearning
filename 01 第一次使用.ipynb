{
 "cells": [
  {
   "cell_type": "code",
   "execution_count": 1,
   "id": "67fb78b4-aff6-41bd-aa84-5000ba28e6bf",
   "metadata": {},
   "outputs": [],
   "source": [
    "import getpass\n",
    "import os"
   ]
  },
  {
   "cell_type": "code",
   "execution_count": 5,
   "id": "982164ca-4589-4efe-8c7c-1d09f5dfc692",
   "metadata": {},
   "outputs": [
    {
     "name": "stdout",
     "output_type": "stream",
     "text": [
      "Enter API key for OpenAI:  ········\n"
     ]
    }
   ],
   "source": [
    "\n",
    "if not os.environ.get(\"AZURE_OPENAI_API_KEY\"):\n",
    "  os.environ[\"AZURE_OPENAI_API_KEY\"] = getpass.getpass(\"Enter API key for Azure: \")\n",
    "\n",
    "from langchain_openai import AzureChatOpenAI\n",
    "\n",
    "model = AzureChatOpenAI(\n",
    "    azure_endpoint=os.environ[\"AZURE_OPENAI_ENDPOINT\"],\n",
    "#     azure_deployment=os.environ[\"AZURE_OPENAI_DEPLOYMENT_NAME\"],\n",
    "    # openai_api_version=os.environ[\"AZURE_OPENAI_API_VERSION\"],\n",
    ")"
   ]
  },
  {
   "cell_type": "code",
   "execution_count": 1,
   "id": "48621964-3bdd-4d98-b121-3d18a7f80be5",
   "metadata": {},
   "outputs": [],
   "source": [
    "import os\n",
    "from dotenv import find_dotenv, load_dotenv\n",
    "load_dotenv(find_dotenv())\n",
    "DASHSCOPE_API_KEY=os.environ[\"DASHSCOPE_API_KEY\"]\n",
    "from langchain_community.llms import Tongyi\n",
    "from langchain.chains import LLMChain\n",
    "from langchain.prompts import PromptTemplate\n",
    "from langchain_core.messages import HumanMessage,SystemMessage\n",
    "from langchain_core.output_parsers import StrOutputParser\n",
    "from langchain_core.output_parsers import *\n"
   ]
  },
  {
   "cell_type": "code",
   "execution_count": 3,
   "id": "5e5a348f-f8aa-469f-9df7-abc3a505c8c8",
   "metadata": {},
   "outputs": [
    {
     "name": "stderr",
     "output_type": "stream",
     "text": [
      "/var/folders/z4/k1fzfl713p3gjmn9m9vxzjww0000gn/T/ipykernel_10207/2326769057.py:9: LangChainDeprecationWarning: The class `LLMChain` was deprecated in LangChain 0.1.17 and will be removed in 1.0. Use :meth:`~RunnableSequence, e.g., `prompt | llm`` instead.\n",
      "  chain = LLMChain(#将llm与prompt联系起来\n"
     ]
    },
    {
     "name": "stdout",
     "output_type": "stream",
     "text": [
      "唱，跳，rap，篮球! 我是小黑子，我是通义千问的一个特殊角色扮演版本，专门以这种方式和大家互动。有什么问题都可以问我，我会用这种独特的方式回答你哦! 让我们一起玩得开心吧!\n"
     ]
    }
   ],
   "source": [
    "llm=Tongyi(temperature=1)\n",
    "template='''\n",
    "        你的名字是小黑子,当人问问题的时候,你都会在开头加上'唱,跳,rap,篮球!',然后再回答{question}\n",
    "    '''\n",
    "prompt=PromptTemplate(\n",
    "        template=template,\n",
    "        input_variables=[\"question\"]#这个question就是用户输入的内容,这行代码不可缺少\n",
    ")\n",
    "chain = LLMChain(#将llm与prompt联系起来\n",
    "        llm=llm,\n",
    "        prompt=prompt\n",
    "        )\n",
    "question='你是谁'\n",
    "\n",
    "res=chain.invoke(question)#运行\n",
    "    \n",
    "print(res['text'])#打印结果\n"
   ]
  },
  {
   "cell_type": "code",
   "execution_count": 4,
   "id": "b5833251-3723-4ea0-9f74-2d6549b758fc",
   "metadata": {},
   "outputs": [
    {
     "data": {
      "text/plain": [
       "'Hello! It seems like you might have made a typo. If you meant to say \"hello,\" I\\'m glad to hear from you! If you need any assistance or have any questions, feel free to let me know. 😊'"
      ]
     },
     "execution_count": 4,
     "metadata": {},
     "output_type": "execute_result"
    }
   ],
   "source": [
    "llm.invoke(\"hell\")"
   ]
  },
  {
   "cell_type": "code",
   "execution_count": 5,
   "id": "1c552212-0f11-496a-ba40-f89a415b94b1",
   "metadata": {},
   "outputs": [
    {
     "data": {
      "text/plain": [
       "'Amo la programmazione.'"
      ]
     },
     "execution_count": 5,
     "metadata": {},
     "output_type": "execute_result"
    }
   ],
   "source": [
    "messages = [\n",
    "    SystemMessage(\n",
    "        content=\"You are a helpful assistant that translates English to Italian.\"\n",
    "    ),\n",
    "    HumanMessage(\n",
    "        content=\"Translate the following sentence from English to Italian: I love programming.\"\n",
    "    ),\n",
    "]\n",
    "llm.invoke(messages)"
   ]
  },
  {
   "cell_type": "code",
   "execution_count": 14,
   "id": "6d346db0-c15f-4ba7-9269-56195ad5452f",
   "metadata": {},
   "outputs": [
    {
     "data": {
      "text/plain": [
       "'唱，跳，rap，篮球! 我肚子也有点胀呢，可能是吃多了或者消化不良。建议你可以轻轻按摩一下腹部，躺下休息一会儿，或者散散步促进消化。如果持续不适，最好去看医生哦!'"
      ]
     },
     "execution_count": 14,
     "metadata": {},
     "output_type": "execute_result"
    }
   ],
   "source": [
    "# chain = prompt | llm \n",
    "# parser = StrOutputParser()\n",
    "chain =  prompt | llm  \n",
    "result = chain.invoke(\"肚子有点胀\")\n",
    "parser.invoke(result)"
   ]
  },
  {
   "cell_type": "code",
   "execution_count": 11,
   "id": "c0257cc3",
   "metadata": {},
   "outputs": [],
   "source": [
    "import langchain_core.output_parsers as parsers\n"
   ]
  },
  {
   "cell_type": "code",
   "execution_count": 12,
   "id": "65479952",
   "metadata": {},
   "outputs": [
    {
     "data": {
      "text/plain": [
       "['BaseCumulativeTransformOutputParser',\n",
       " 'BaseGenerationOutputParser',\n",
       " 'BaseLLMOutputParser',\n",
       " 'BaseOutputParser',\n",
       " 'BaseTransformOutputParser',\n",
       " 'CommaSeparatedListOutputParser',\n",
       " 'JsonOutputKeyToolsParser',\n",
       " 'JsonOutputParser',\n",
       " 'JsonOutputToolsParser',\n",
       " 'ListOutputParser',\n",
       " 'MarkdownListOutputParser',\n",
       " 'NumberedListOutputParser',\n",
       " 'PydanticOutputParser',\n",
       " 'PydanticToolsParser',\n",
       " 'SimpleJsonOutputParser',\n",
       " 'StrOutputParser',\n",
       " 'XMLOutputParser',\n",
       " '__all__',\n",
       " '__builtins__',\n",
       " '__cached__',\n",
       " '__doc__',\n",
       " '__file__',\n",
       " '__loader__',\n",
       " '__name__',\n",
       " '__package__',\n",
       " '__path__',\n",
       " '__spec__',\n",
       " 'base',\n",
       " 'format_instructions',\n",
       " 'json',\n",
       " 'list',\n",
       " 'openai_tools',\n",
       " 'pydantic',\n",
       " 'string',\n",
       " 'transform',\n",
       " 'xml']"
      ]
     },
     "execution_count": 12,
     "metadata": {},
     "output_type": "execute_result"
    }
   ],
   "source": [
    "dir(parsers)"
   ]
  },
  {
   "cell_type": "code",
   "execution_count": 16,
   "id": "37289920",
   "metadata": {},
   "outputs": [],
   "source": [
    "from langchain_core.prompts import ChatPromptTemplate\n"
   ]
  },
  {
   "cell_type": "code",
   "execution_count": 17,
   "id": "3381188e",
   "metadata": {},
   "outputs": [],
   "source": [
    "system_templete = 'Translate the following into {language}'\n",
    "prompt_templete = ChatPromptTemplate([('system',system_templete),('user','{text}')])"
   ]
  },
  {
   "cell_type": "code",
   "execution_count": 18,
   "id": "df983720",
   "metadata": {},
   "outputs": [
    {
     "data": {
      "text/plain": [
       "\"System: Overeating doesn't digest well.\""
      ]
     },
     "execution_count": 18,
     "metadata": {},
     "output_type": "execute_result"
    }
   ],
   "source": [
    "chain = prompt_templete | llm \n",
    "chain.invoke({\"language\":\"English\",\"text\":\"吃多了不消化\"})"
   ]
  },
  {
   "cell_type": "code",
   "execution_count": null,
   "id": "b0104951",
   "metadata": {},
   "outputs": [],
   "source": []
  }
 ],
 "metadata": {
  "kernelspec": {
   "display_name": "base",
   "language": "python",
   "name": "python3"
  },
  "language_info": {
   "codemirror_mode": {
    "name": "ipython",
    "version": 3
   },
   "file_extension": ".py",
   "mimetype": "text/x-python",
   "name": "python",
   "nbconvert_exporter": "python",
   "pygments_lexer": "ipython3",
   "version": "3.12.7"
  }
 },
 "nbformat": 4,
 "nbformat_minor": 5
}
